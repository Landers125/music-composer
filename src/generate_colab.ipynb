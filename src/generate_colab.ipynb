{
 "cells": [
  {
   "cell_type": "code",
   "execution_count": null,
   "id": "241daf4b",
   "metadata": {},
   "outputs": [],
   "source": [
    "import os\n",
    "import argparse\n",
    "import numpy as np\n",
    "from tqdm import tqdm\n",
    "import time\n",
    "import torch\n",
    "import pretty_midi\n",
    "\n",
    "from lib import constants\n",
    "from lib import midi_processing\n",
    "from lib import generation\n",
    "from lib.midi_processing import PIANO_RANGE\n",
    "from lib.model.transformer import MusicTransformer"
   ]
  },
  {
   "cell_type": "code",
   "execution_count": null,
   "id": "487a4fdf",
   "metadata": {},
   "outputs": [],
   "source": [
    "def decode_and_write(generated, primer, genre, out_dir):\n",
    "    for i, (gen, g) in enumerate(zip(generated, genre)):\n",
    "        midi = midi_processing.decode(gen)\n",
    "        midi.write(f'{out_dir}/gen_{i:>02}_{id2genre[g]}.mid')"
   ]
  },
  {
   "cell_type": "code",
   "execution_count": null,
   "id": "ba57008b",
   "metadata": {},
   "outputs": [],
   "source": [
    "id2genre = {0:'classic',1:'jazz',2:'calm',3:'pop'}\n",
    "genre2id = dict([[x[1],x[0]] for x in id2genre.items()])\n",
    "tuned_params = {\n",
    "    0: 1.1,\n",
    "    1: 0.95,\n",
    "    2: 0.9,\n",
    "    3: 1.0\n",
    "}"
   ]
  },
  {
   "cell_type": "code",
   "execution_count": null,
   "id": "074130e6",
   "metadata": {},
   "outputs": [],
   "source": [
    "load_path = '../checkpoints/model_big_v3_378k.pt'\n",
    "out_dir = 'generated_' + time.strftime('%d-%m-%Y_%H-%M-%S')\n",
    "genre_to_generate = 'calm'  # Use one of ['classic', 'jazz', 'calm', 'pop']\n",
    "batch_size = 8\n",
    "device = torch.device('cuda:0')\n",
    "remove_bad_generations = True"
   ]
  },
  {
   "cell_type": "code",
   "execution_count": null,
   "id": "40f48a16",
   "metadata": {},
   "outputs": [],
   "source": [
    "params = dict(\n",
    "    target_seq_length = 512,\n",
    "    temperature = tuned_params[genre2id[genre_to_generate]],\n",
    "    topk = 40,\n",
    "    topp = 0.99,\n",
    "    topp_temperature = 1.0,\n",
    "    at_least_k = 1,\n",
    "    use_rp = False,\n",
    "    rp_penalty = 0.05,\n",
    "    rp_restore_speed = 0.7,\n",
    "    seed = None,\n",
    ")"
   ]
  },
  {
   "cell_type": "code",
   "execution_count": null,
   "id": "9ae21f1d",
   "metadata": {},
   "outputs": [],
   "source": [
    "# START GENERATION\n",
    "\n",
    "os.makedirs(out_dir, exist_ok=True)\n",
    "genre_id = genre2id[genre_to_generate]\n",
    "\n",
    "# init model\n",
    "print('loading model...')\n",
    "model = MusicTransformer(device, n_layers=12, d_model=1024, dim_feedforward=2048, num_heads=16, vocab_size=constants.VOCAB_SIZE, rpr=True).to(device).eval()\n",
    "model.load_state_dict(torch.load(load_path, map_location=device))\n",
    "\n",
    "# add information about genre (first token)\n",
    "primer_genre = np.repeat([genre_id], batch_size)\n",
    "primer = torch.tensor(primer_genre)[:,None] + constants.VOCAB_SIZE - 4\n",
    "\n",
    "print('generating to:', os.path.abspath(out_dir))\n",
    "generated = generation.generate(model, primer, **params)\n",
    "generated = generation.post_process(generated, remove_bad_generations=remove_bad_generations)\n",
    "\n",
    "decode_and_write(generated, primer, primer_genre, out_dir)"
   ]
  }
 ],
 "metadata": {
  "kernelspec": {
   "display_name": "Python 3 (ipykernel)",
   "language": "python",
   "name": "python3"
  },
  "language_info": {
   "codemirror_mode": {
    "name": "ipython",
    "version": 3
   },
   "file_extension": ".py",
   "mimetype": "text/x-python",
   "name": "python",
   "nbconvert_exporter": "python",
   "pygments_lexer": "ipython3",
   "version": "3.7.10"
  }
 },
 "nbformat": 4,
 "nbformat_minor": 5
}
